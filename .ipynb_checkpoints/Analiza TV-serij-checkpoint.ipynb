{
 "cells": [
  {
   "cell_type": "markdown",
   "metadata": {},
   "source": [
    "# TV Serije\n",
    "\n",
    "Za svoj projekt sem se odločil za analizo trenutno najbolj popularnih (glede na stran imdb.com) 247 tv serij.\n",
    "Zbral sem naslednje podatke o omenjenih serijah:\n",
    "- naslov\n",
    "- kratek opis\n",
    "- žanri\n",
    "- leta izida\n",
    "- dolžine epizod\n",
    "- število epizod\n",
    "- ocena, število glasov\n",
    "- igralci (in vloge)"
   ]
  },
  {
   "cell_type": "code",
   "execution_count": 2,
   "metadata": {
    "collapsed": false
   },
   "outputs": [],
   "source": [
    "import pandas as pd\n",
    "%matplotlib inline\n",
    "\n",
    "pd.options.display.max_rows = 14"
   ]
  },
  {
   "cell_type": "markdown",
   "metadata": {},
   "source": [
    "Za začetek si oglejmo vse podatke, zbrane v tabelah:"
   ]
  },
  {
   "cell_type": "code",
   "execution_count": 3,
   "metadata": {
    "collapsed": false
   },
   "outputs": [],
   "source": [
    "serije = pd.read_csv('serije.csv', index_col = 'id')\n",
    "zanri = pd.read_csv('zanri.csv', index_col = 'id')\n",
    "drzave = pd.read_csv('drzave.csv', index_col = 'id')\n",
    "igralci = pd.read_csv('igralci.csv')\n",
    "leta = pd.read_csv('leta.csv', index_col = 'id')"
   ]
  },
  {
   "cell_type": "code",
   "execution_count": 4,
   "metadata": {
    "collapsed": false
   },
   "outputs": [
    {
     "data": {
      "text/html": [
       "<div>\n",
       "<table border=\"1\" class=\"dataframe\">\n",
       "  <thead>\n",
       "    <tr style=\"text-align: right;\">\n",
       "      <th></th>\n",
       "      <th>naslov</th>\n",
       "      <th>opis</th>\n",
       "      <th>leto</th>\n",
       "      <th>dolzina</th>\n",
       "      <th>epizode</th>\n",
       "      <th>ocena</th>\n",
       "      <th>st_glasov</th>\n",
       "    </tr>\n",
       "    <tr>\n",
       "      <th>id</th>\n",
       "      <th></th>\n",
       "      <th></th>\n",
       "      <th></th>\n",
       "      <th></th>\n",
       "      <th></th>\n",
       "      <th></th>\n",
       "      <th></th>\n",
       "    </tr>\n",
       "  </thead>\n",
       "  <tbody>\n",
       "    <tr>\n",
       "      <th>5491994</th>\n",
       "      <td>Planet Earth II</td>\n",
       "      <td>David Attenborough returns in this breathtakin...</td>\n",
       "      <td>2016–</td>\n",
       "      <td>51</td>\n",
       "      <td>7</td>\n",
       "      <td>9.7</td>\n",
       "      <td>17184</td>\n",
       "    </tr>\n",
       "    <tr>\n",
       "      <th>185906</th>\n",
       "      <td>Band of Brothers</td>\n",
       "      <td>The story of Easy Company of the US Army 101st...</td>\n",
       "      <td>2001</td>\n",
       "      <td>54</td>\n",
       "      <td>10</td>\n",
       "      <td>9.5</td>\n",
       "      <td>246659</td>\n",
       "    </tr>\n",
       "    <tr>\n",
       "      <th>795176</th>\n",
       "      <td>Planet Earth</td>\n",
       "      <td>Emmy Award-winning, 11 episodes, 5 years in th...</td>\n",
       "      <td>2006</td>\n",
       "      <td>43</td>\n",
       "      <td>11</td>\n",
       "      <td>9.5</td>\n",
       "      <td>111641</td>\n",
       "    </tr>\n",
       "    <tr>\n",
       "      <th>944947</th>\n",
       "      <td>Game of Thrones</td>\n",
       "      <td>Nine noble families fight for control over the...</td>\n",
       "      <td>2011–</td>\n",
       "      <td>56</td>\n",
       "      <td>73</td>\n",
       "      <td>9.5</td>\n",
       "      <td>1106304</td>\n",
       "    </tr>\n",
       "    <tr>\n",
       "      <th>903747</th>\n",
       "      <td>Breaking Bad</td>\n",
       "      <td>A high school chemistry teacher diagnosed with...</td>\n",
       "      <td>2008–2013</td>\n",
       "      <td>49</td>\n",
       "      <td>62</td>\n",
       "      <td>9.5</td>\n",
       "      <td>939633</td>\n",
       "    </tr>\n",
       "    <tr>\n",
       "      <th>306414</th>\n",
       "      <td>The Wire</td>\n",
       "      <td>Baltimore drug scene, seen through the eyes of...</td>\n",
       "      <td>2002–2008</td>\n",
       "      <td>59</td>\n",
       "      <td>60</td>\n",
       "      <td>9.4</td>\n",
       "      <td>200345</td>\n",
       "    </tr>\n",
       "    <tr>\n",
       "      <th>2395695</th>\n",
       "      <td>Cosmos: A Spacetime Odyssey</td>\n",
       "      <td>A documentary series that explores how we disc...</td>\n",
       "      <td>2014</td>\n",
       "      <td>41</td>\n",
       "      <td>13</td>\n",
       "      <td>9.3</td>\n",
       "      <td>66269</td>\n",
       "    </tr>\n",
       "    <tr>\n",
       "      <th>...</th>\n",
       "      <td>...</td>\n",
       "      <td>...</td>\n",
       "      <td>...</td>\n",
       "      <td>...</td>\n",
       "      <td>...</td>\n",
       "      <td>...</td>\n",
       "      <td>...</td>\n",
       "    </tr>\n",
       "    <tr>\n",
       "      <th>2249364</th>\n",
       "      <td>Broadchurch</td>\n",
       "      <td>The murder of a young boy in a small coastal t...</td>\n",
       "      <td>2013–</td>\n",
       "      <td>48</td>\n",
       "      <td>24</td>\n",
       "      <td>8.4</td>\n",
       "      <td>46620</td>\n",
       "    </tr>\n",
       "    <tr>\n",
       "      <th>54533</th>\n",
       "      <td>The Dick Van Dyke Show</td>\n",
       "      <td>The misadventures of a TV writer both at work ...</td>\n",
       "      <td>1961–1966</td>\n",
       "      <td>30</td>\n",
       "      <td>158</td>\n",
       "      <td>8.4</td>\n",
       "      <td>6395</td>\n",
       "    </tr>\n",
       "    <tr>\n",
       "      <th>780362</th>\n",
       "      <td>Jane Eyre</td>\n",
       "      <td>A young governess falls in love with her brood...</td>\n",
       "      <td>2006–</td>\n",
       "      <td>45</td>\n",
       "      <td>4</td>\n",
       "      <td>8.4</td>\n",
       "      <td>15611</td>\n",
       "    </tr>\n",
       "    <tr>\n",
       "      <th>1839578</th>\n",
       "      <td>Person of Interest</td>\n",
       "      <td>An ex-assassin and a wealthy programmer save l...</td>\n",
       "      <td>2011–2016</td>\n",
       "      <td>43</td>\n",
       "      <td>103</td>\n",
       "      <td>8.5</td>\n",
       "      <td>132854</td>\n",
       "    </tr>\n",
       "    <tr>\n",
       "      <th>310455</th>\n",
       "      <td>Foyle's War</td>\n",
       "      <td>As WW2 rages around the world, DCS Foyle fight...</td>\n",
       "      <td>2002–2015</td>\n",
       "      <td>60</td>\n",
       "      <td>28</td>\n",
       "      <td>8.4</td>\n",
       "      <td>9586</td>\n",
       "    </tr>\n",
       "    <tr>\n",
       "      <th>6005644</th>\n",
       "      <td>TVF Tripling</td>\n",
       "      <td>Divorced, jobless, hopeless.</td>\n",
       "      <td>2016–</td>\n",
       "      <td>30</td>\n",
       "      <td>5</td>\n",
       "      <td>8.9</td>\n",
       "      <td>6649</td>\n",
       "    </tr>\n",
       "    <tr>\n",
       "      <th>2126154</th>\n",
       "      <td>This Is England '88</td>\n",
       "      <td>Christmas 1988.</td>\n",
       "      <td>2011</td>\n",
       "      <td>60</td>\n",
       "      <td>3</td>\n",
       "      <td>8.4</td>\n",
       "      <td>6268</td>\n",
       "    </tr>\n",
       "  </tbody>\n",
       "</table>\n",
       "<p>247 rows × 7 columns</p>\n",
       "</div>"
      ],
      "text/plain": [
       "                              naslov  \\\n",
       "id                                     \n",
       "5491994              Planet Earth II   \n",
       "185906              Band of Brothers   \n",
       "795176                  Planet Earth   \n",
       "944947               Game of Thrones   \n",
       "903747                  Breaking Bad   \n",
       "306414                      The Wire   \n",
       "2395695  Cosmos: A Spacetime Odyssey   \n",
       "...                              ...   \n",
       "2249364                  Broadchurch   \n",
       "54533         The Dick Van Dyke Show   \n",
       "780362                     Jane Eyre   \n",
       "1839578           Person of Interest   \n",
       "310455                   Foyle's War   \n",
       "6005644                 TVF Tripling   \n",
       "2126154          This Is England '88   \n",
       "\n",
       "                                                      opis       leto  \\\n",
       "id                                                                      \n",
       "5491994  David Attenborough returns in this breathtakin...      2016–   \n",
       "185906   The story of Easy Company of the US Army 101st...       2001   \n",
       "795176   Emmy Award-winning, 11 episodes, 5 years in th...       2006   \n",
       "944947   Nine noble families fight for control over the...      2011–   \n",
       "903747   A high school chemistry teacher diagnosed with...  2008–2013   \n",
       "306414   Baltimore drug scene, seen through the eyes of...  2002–2008   \n",
       "2395695  A documentary series that explores how we disc...       2014   \n",
       "...                                                    ...        ...   \n",
       "2249364  The murder of a young boy in a small coastal t...      2013–   \n",
       "54533    The misadventures of a TV writer both at work ...  1961–1966   \n",
       "780362   A young governess falls in love with her brood...      2006–   \n",
       "1839578  An ex-assassin and a wealthy programmer save l...  2011–2016   \n",
       "310455   As WW2 rages around the world, DCS Foyle fight...  2002–2015   \n",
       "6005644                       Divorced, jobless, hopeless.      2016–   \n",
       "2126154                                    Christmas 1988.       2011   \n",
       "\n",
       "         dolzina  epizode  ocena  st_glasov  \n",
       "id                                           \n",
       "5491994       51        7    9.7      17184  \n",
       "185906        54       10    9.5     246659  \n",
       "795176        43       11    9.5     111641  \n",
       "944947        56       73    9.5    1106304  \n",
       "903747        49       62    9.5     939633  \n",
       "306414        59       60    9.4     200345  \n",
       "2395695       41       13    9.3      66269  \n",
       "...          ...      ...    ...        ...  \n",
       "2249364       48       24    8.4      46620  \n",
       "54533         30      158    8.4       6395  \n",
       "780362        45        4    8.4      15611  \n",
       "1839578       43      103    8.5     132854  \n",
       "310455        60       28    8.4       9586  \n",
       "6005644       30        5    8.9       6649  \n",
       "2126154       60        3    8.4       6268  \n",
       "\n",
       "[247 rows x 7 columns]"
      ]
     },
     "execution_count": 4,
     "metadata": {},
     "output_type": "execute_result"
    }
   ],
   "source": [
    "serije"
   ]
  },
  {
   "cell_type": "code",
   "execution_count": 5,
   "metadata": {
    "collapsed": false
   },
   "outputs": [
    {
     "data": {
      "text/html": [
       "<div>\n",
       "<table border=\"1\" class=\"dataframe\">\n",
       "  <thead>\n",
       "    <tr style=\"text-align: right;\">\n",
       "      <th></th>\n",
       "      <th>zanr</th>\n",
       "    </tr>\n",
       "    <tr>\n",
       "      <th>id</th>\n",
       "      <th></th>\n",
       "    </tr>\n",
       "  </thead>\n",
       "  <tbody>\n",
       "    <tr>\n",
       "      <th>5491994</th>\n",
       "      <td>Documentary</td>\n",
       "    </tr>\n",
       "    <tr>\n",
       "      <th>185906</th>\n",
       "      <td>Action</td>\n",
       "    </tr>\n",
       "    <tr>\n",
       "      <th>185906</th>\n",
       "      <td>Drama</td>\n",
       "    </tr>\n",
       "    <tr>\n",
       "      <th>185906</th>\n",
       "      <td>History</td>\n",
       "    </tr>\n",
       "    <tr>\n",
       "      <th>185906</th>\n",
       "      <td>War</td>\n",
       "    </tr>\n",
       "    <tr>\n",
       "      <th>795176</th>\n",
       "      <td>Documentary</td>\n",
       "    </tr>\n",
       "    <tr>\n",
       "      <th>944947</th>\n",
       "      <td>Adventure</td>\n",
       "    </tr>\n",
       "    <tr>\n",
       "      <th>...</th>\n",
       "      <td>...</td>\n",
       "    </tr>\n",
       "    <tr>\n",
       "      <th>310455</th>\n",
       "      <td>Crime</td>\n",
       "    </tr>\n",
       "    <tr>\n",
       "      <th>310455</th>\n",
       "      <td>Drama</td>\n",
       "    </tr>\n",
       "    <tr>\n",
       "      <th>310455</th>\n",
       "      <td>Mystery</td>\n",
       "    </tr>\n",
       "    <tr>\n",
       "      <th>310455</th>\n",
       "      <td>War</td>\n",
       "    </tr>\n",
       "    <tr>\n",
       "      <th>6005644</th>\n",
       "      <td>Drama</td>\n",
       "    </tr>\n",
       "    <tr>\n",
       "      <th>2126154</th>\n",
       "      <td>Crime</td>\n",
       "    </tr>\n",
       "    <tr>\n",
       "      <th>2126154</th>\n",
       "      <td>Drama</td>\n",
       "    </tr>\n",
       "  </tbody>\n",
       "</table>\n",
       "<p>774 rows × 1 columns</p>\n",
       "</div>"
      ],
      "text/plain": [
       "                zanr\n",
       "id                  \n",
       "5491994  Documentary\n",
       "185906        Action\n",
       "185906         Drama\n",
       "185906       History\n",
       "185906           War\n",
       "795176   Documentary\n",
       "944947     Adventure\n",
       "...              ...\n",
       "310455         Crime\n",
       "310455         Drama\n",
       "310455       Mystery\n",
       "310455           War\n",
       "6005644        Drama\n",
       "2126154        Crime\n",
       "2126154        Drama\n",
       "\n",
       "[774 rows x 1 columns]"
      ]
     },
     "execution_count": 5,
     "metadata": {},
     "output_type": "execute_result"
    }
   ],
   "source": [
    "zanri"
   ]
  },
  {
   "cell_type": "code",
   "execution_count": 6,
   "metadata": {
    "collapsed": false
   },
   "outputs": [
    {
     "data": {
      "text/html": [
       "<div>\n",
       "<table border=\"1\" class=\"dataframe\">\n",
       "  <thead>\n",
       "    <tr style=\"text-align: right;\">\n",
       "      <th></th>\n",
       "      <th>drzava</th>\n",
       "    </tr>\n",
       "    <tr>\n",
       "      <th>id</th>\n",
       "      <th></th>\n",
       "    </tr>\n",
       "  </thead>\n",
       "  <tbody>\n",
       "    <tr>\n",
       "      <th>5491994</th>\n",
       "      <td>UK</td>\n",
       "    </tr>\n",
       "    <tr>\n",
       "      <th>185906</th>\n",
       "      <td>USA</td>\n",
       "    </tr>\n",
       "    <tr>\n",
       "      <th>185906</th>\n",
       "      <td>UK</td>\n",
       "    </tr>\n",
       "    <tr>\n",
       "      <th>795176</th>\n",
       "      <td>UK</td>\n",
       "    </tr>\n",
       "    <tr>\n",
       "      <th>944947</th>\n",
       "      <td>USA</td>\n",
       "    </tr>\n",
       "    <tr>\n",
       "      <th>944947</th>\n",
       "      <td>UK</td>\n",
       "    </tr>\n",
       "    <tr>\n",
       "      <th>903747</th>\n",
       "      <td>USA</td>\n",
       "    </tr>\n",
       "    <tr>\n",
       "      <th>...</th>\n",
       "      <td>...</td>\n",
       "    </tr>\n",
       "    <tr>\n",
       "      <th>54533</th>\n",
       "      <td>USA</td>\n",
       "    </tr>\n",
       "    <tr>\n",
       "      <th>780362</th>\n",
       "      <td>UK</td>\n",
       "    </tr>\n",
       "    <tr>\n",
       "      <th>780362</th>\n",
       "      <td>USA</td>\n",
       "    </tr>\n",
       "    <tr>\n",
       "      <th>1839578</th>\n",
       "      <td>USA</td>\n",
       "    </tr>\n",
       "    <tr>\n",
       "      <th>310455</th>\n",
       "      <td>UK</td>\n",
       "    </tr>\n",
       "    <tr>\n",
       "      <th>6005644</th>\n",
       "      <td>India</td>\n",
       "    </tr>\n",
       "    <tr>\n",
       "      <th>2126154</th>\n",
       "      <td>UK</td>\n",
       "    </tr>\n",
       "  </tbody>\n",
       "</table>\n",
       "<p>295 rows × 1 columns</p>\n",
       "</div>"
      ],
      "text/plain": [
       "        drzava\n",
       "id            \n",
       "5491994     UK\n",
       "185906     USA\n",
       "185906      UK\n",
       "795176      UK\n",
       "944947     USA\n",
       "944947      UK\n",
       "903747     USA\n",
       "...        ...\n",
       "54533      USA\n",
       "780362      UK\n",
       "780362     USA\n",
       "1839578    USA\n",
       "310455      UK\n",
       "6005644  India\n",
       "2126154     UK\n",
       "\n",
       "[295 rows x 1 columns]"
      ]
     },
     "execution_count": 6,
     "metadata": {},
     "output_type": "execute_result"
    }
   ],
   "source": [
    "drzave"
   ]
  },
  {
   "cell_type": "code",
   "execution_count": 7,
   "metadata": {
    "collapsed": false,
    "scrolled": false
   },
   "outputs": [
    {
     "data": {
      "text/html": [
       "<div>\n",
       "<table border=\"1\" class=\"dataframe\">\n",
       "  <thead>\n",
       "    <tr style=\"text-align: right;\">\n",
       "      <th></th>\n",
       "      <th>id</th>\n",
       "      <th>id igralca</th>\n",
       "      <th>ime</th>\n",
       "      <th>vloga</th>\n",
       "    </tr>\n",
       "  </thead>\n",
       "  <tbody>\n",
       "    <tr>\n",
       "      <th>0</th>\n",
       "      <td>5491994</td>\n",
       "      <td>41003</td>\n",
       "      <td>David Attenborough</td>\n",
       "      <td>Himself - presenter</td>\n",
       "    </tr>\n",
       "    <tr>\n",
       "      <th>1</th>\n",
       "      <td>185906</td>\n",
       "      <td>342241</td>\n",
       "      <td>Scott Grimes</td>\n",
       "      <td>Donald G. Malarkey</td>\n",
       "    </tr>\n",
       "    <tr>\n",
       "      <th>2</th>\n",
       "      <td>185906</td>\n",
       "      <td>507073</td>\n",
       "      <td>Damian Lewis</td>\n",
       "      <td>Richard D. Winters</td>\n",
       "    </tr>\n",
       "    <tr>\n",
       "      <th>3</th>\n",
       "      <td>185906</td>\n",
       "      <td>515296</td>\n",
       "      <td>Ron Livingston</td>\n",
       "      <td>Lewis Nixon</td>\n",
       "    </tr>\n",
       "    <tr>\n",
       "      <th>4</th>\n",
       "      <td>185906</td>\n",
       "      <td>853169</td>\n",
       "      <td>Shane Taylor</td>\n",
       "      <td>Eugene G. Roe</td>\n",
       "    </tr>\n",
       "    <tr>\n",
       "      <th>5</th>\n",
       "      <td>185906</td>\n",
       "      <td>5531</td>\n",
       "      <td>Donnie Wahlberg</td>\n",
       "      <td>C. Carwood Lipton</td>\n",
       "    </tr>\n",
       "    <tr>\n",
       "      <th>6</th>\n",
       "      <td>185906</td>\n",
       "      <td>950186</td>\n",
       "      <td>Peter Youngblood Hills</td>\n",
       "      <td>Darrell C. (Shifty) Powers</td>\n",
       "    </tr>\n",
       "    <tr>\n",
       "      <th>...</th>\n",
       "      <td>...</td>\n",
       "      <td>...</td>\n",
       "      <td>...</td>\n",
       "      <td>...</td>\n",
       "    </tr>\n",
       "    <tr>\n",
       "      <th>3384</th>\n",
       "      <td>2126154</td>\n",
       "      <td>4813425</td>\n",
       "      <td>Autumn Smiles</td>\n",
       "      <td>Titch</td>\n",
       "    </tr>\n",
       "    <tr>\n",
       "      <th>3385</th>\n",
       "      <td>2126154</td>\n",
       "      <td>2772078</td>\n",
       "      <td>Ian Smith</td>\n",
       "      <td>Mr. Benson</td>\n",
       "    </tr>\n",
       "    <tr>\n",
       "      <th>3386</th>\n",
       "      <td>2126154</td>\n",
       "      <td>871443</td>\n",
       "      <td>William Travis</td>\n",
       "      <td>Mr. Squires</td>\n",
       "    </tr>\n",
       "    <tr>\n",
       "      <th>3387</th>\n",
       "      <td>2126154</td>\n",
       "      <td>6743500</td>\n",
       "      <td>Ryan Barr</td>\n",
       "      <td>Trudy</td>\n",
       "    </tr>\n",
       "    <tr>\n",
       "      <th>3388</th>\n",
       "      <td>2126154</td>\n",
       "      <td>1276507</td>\n",
       "      <td>Alex Macqueen</td>\n",
       "      <td>Fay's Dad</td>\n",
       "    </tr>\n",
       "    <tr>\n",
       "      <th>3389</th>\n",
       "      <td>2126154</td>\n",
       "      <td>40060</td>\n",
       "      <td>Emily Aston</td>\n",
       "      <td>Janice</td>\n",
       "    </tr>\n",
       "    <tr>\n",
       "      <th>3390</th>\n",
       "      <td>2126154</td>\n",
       "      <td>841491</td>\n",
       "      <td>Joanna Swain</td>\n",
       "      <td>Maitre D'</td>\n",
       "    </tr>\n",
       "  </tbody>\n",
       "</table>\n",
       "<p>3391 rows × 4 columns</p>\n",
       "</div>"
      ],
      "text/plain": [
       "           id  id igralca                     ime                       vloga\n",
       "0     5491994       41003      David Attenborough         Himself - presenter\n",
       "1      185906      342241            Scott Grimes          Donald G. Malarkey\n",
       "2      185906      507073            Damian Lewis          Richard D. Winters\n",
       "3      185906      515296          Ron Livingston                 Lewis Nixon\n",
       "4      185906      853169            Shane Taylor               Eugene G. Roe\n",
       "5      185906        5531         Donnie Wahlberg           C. Carwood Lipton\n",
       "6      185906      950186  Peter Youngblood Hills  Darrell C. (Shifty) Powers\n",
       "...       ...         ...                     ...                         ...\n",
       "3384  2126154     4813425           Autumn Smiles                       Titch\n",
       "3385  2126154     2772078               Ian Smith                  Mr. Benson\n",
       "3386  2126154      871443          William Travis                 Mr. Squires\n",
       "3387  2126154     6743500               Ryan Barr                       Trudy\n",
       "3388  2126154     1276507           Alex Macqueen                   Fay's Dad\n",
       "3389  2126154       40060             Emily Aston                      Janice\n",
       "3390  2126154      841491            Joanna Swain                   Maitre D'\n",
       "\n",
       "[3391 rows x 4 columns]"
      ]
     },
     "execution_count": 7,
     "metadata": {},
     "output_type": "execute_result"
    }
   ],
   "source": [
    "igralci"
   ]
  },
  {
   "cell_type": "code",
   "execution_count": 8,
   "metadata": {
    "collapsed": false,
    "scrolled": false
   },
   "outputs": [
    {
     "data": {
      "text/html": [
       "<div>\n",
       "<table border=\"1\" class=\"dataframe\">\n",
       "  <thead>\n",
       "    <tr style=\"text-align: right;\">\n",
       "      <th></th>\n",
       "      <th>leto</th>\n",
       "    </tr>\n",
       "    <tr>\n",
       "      <th>id</th>\n",
       "      <th></th>\n",
       "    </tr>\n",
       "  </thead>\n",
       "  <tbody>\n",
       "    <tr>\n",
       "      <th>5491994</th>\n",
       "      <td>2016</td>\n",
       "    </tr>\n",
       "    <tr>\n",
       "      <th>185906</th>\n",
       "      <td>2001</td>\n",
       "    </tr>\n",
       "    <tr>\n",
       "      <th>795176</th>\n",
       "      <td>2006</td>\n",
       "    </tr>\n",
       "    <tr>\n",
       "      <th>944947</th>\n",
       "      <td>2011</td>\n",
       "    </tr>\n",
       "    <tr>\n",
       "      <th>944947</th>\n",
       "      <td>2012</td>\n",
       "    </tr>\n",
       "    <tr>\n",
       "      <th>944947</th>\n",
       "      <td>2013</td>\n",
       "    </tr>\n",
       "    <tr>\n",
       "      <th>944947</th>\n",
       "      <td>2014</td>\n",
       "    </tr>\n",
       "    <tr>\n",
       "      <th>...</th>\n",
       "      <td>...</td>\n",
       "    </tr>\n",
       "    <tr>\n",
       "      <th>310455</th>\n",
       "      <td>2011</td>\n",
       "    </tr>\n",
       "    <tr>\n",
       "      <th>310455</th>\n",
       "      <td>2012</td>\n",
       "    </tr>\n",
       "    <tr>\n",
       "      <th>310455</th>\n",
       "      <td>2013</td>\n",
       "    </tr>\n",
       "    <tr>\n",
       "      <th>310455</th>\n",
       "      <td>2014</td>\n",
       "    </tr>\n",
       "    <tr>\n",
       "      <th>310455</th>\n",
       "      <td>2015</td>\n",
       "    </tr>\n",
       "    <tr>\n",
       "      <th>6005644</th>\n",
       "      <td>2016</td>\n",
       "    </tr>\n",
       "    <tr>\n",
       "      <th>2126154</th>\n",
       "      <td>2011</td>\n",
       "    </tr>\n",
       "  </tbody>\n",
       "</table>\n",
       "<p>1840 rows × 1 columns</p>\n",
       "</div>"
      ],
      "text/plain": [
       "         leto\n",
       "id           \n",
       "5491994  2016\n",
       "185906   2001\n",
       "795176   2006\n",
       "944947   2011\n",
       "944947   2012\n",
       "944947   2013\n",
       "944947   2014\n",
       "...       ...\n",
       "310455   2011\n",
       "310455   2012\n",
       "310455   2013\n",
       "310455   2014\n",
       "310455   2015\n",
       "6005644  2016\n",
       "2126154  2011\n",
       "\n",
       "[1840 rows x 1 columns]"
      ]
     },
     "execution_count": 8,
     "metadata": {},
     "output_type": "execute_result"
    }
   ],
   "source": [
    "leta"
   ]
  },
  {
   "cell_type": "markdown",
   "metadata": {},
   "source": [
    "# Serije po državah"
   ]
  },
  {
   "cell_type": "markdown",
   "metadata": {},
   "source": [
    "Pa poglejmo od kod pride največ serij:"
   ]
  },
  {
   "cell_type": "code",
   "execution_count": 9,
   "metadata": {
    "collapsed": false,
    "scrolled": false
   },
   "outputs": [
    {
     "data": {
      "text/html": [
       "<div>\n",
       "<table border=\"1\" class=\"dataframe\">\n",
       "  <thead>\n",
       "    <tr style=\"text-align: right;\">\n",
       "      <th></th>\n",
       "      <th>naslov</th>\n",
       "      <th>ocena</th>\n",
       "      <th>drzava</th>\n",
       "    </tr>\n",
       "    <tr>\n",
       "      <th>id</th>\n",
       "      <th></th>\n",
       "      <th></th>\n",
       "      <th></th>\n",
       "    </tr>\n",
       "  </thead>\n",
       "  <tbody>\n",
       "    <tr>\n",
       "      <th>43208</th>\n",
       "      <td>I Love Lucy</td>\n",
       "      <td>8.4</td>\n",
       "      <td>USA</td>\n",
       "    </tr>\n",
       "    <tr>\n",
       "      <th>47708</th>\n",
       "      <td>Alfred Hitchcock Presents</td>\n",
       "      <td>8.6</td>\n",
       "      <td>USA</td>\n",
       "    </tr>\n",
       "    <tr>\n",
       "      <th>52520</th>\n",
       "      <td>The Twilight Zone</td>\n",
       "      <td>9.0</td>\n",
       "      <td>USA</td>\n",
       "    </tr>\n",
       "    <tr>\n",
       "      <th>53488</th>\n",
       "      <td>The Bugs Bunny Show</td>\n",
       "      <td>8.6</td>\n",
       "      <td>USA</td>\n",
       "    </tr>\n",
       "    <tr>\n",
       "      <th>54533</th>\n",
       "      <td>The Dick Van Dyke Show</td>\n",
       "      <td>8.4</td>\n",
       "      <td>USA</td>\n",
       "    </tr>\n",
       "    <tr>\n",
       "      <th>56751</th>\n",
       "      <td>Doctor Who</td>\n",
       "      <td>8.5</td>\n",
       "      <td>UK</td>\n",
       "    </tr>\n",
       "    <tr>\n",
       "      <th>60028</th>\n",
       "      <td>Star Trek</td>\n",
       "      <td>8.4</td>\n",
       "      <td>USA</td>\n",
       "    </tr>\n",
       "    <tr>\n",
       "      <th>...</th>\n",
       "      <td>...</td>\n",
       "      <td>...</td>\n",
       "      <td>...</td>\n",
       "    </tr>\n",
       "    <tr>\n",
       "      <th>5189670</th>\n",
       "      <td>Making a Murderer</td>\n",
       "      <td>8.8</td>\n",
       "      <td>USA</td>\n",
       "    </tr>\n",
       "    <tr>\n",
       "      <th>5288312</th>\n",
       "      <td>Skam</td>\n",
       "      <td>9.1</td>\n",
       "      <td>Norway</td>\n",
       "    </tr>\n",
       "    <tr>\n",
       "      <th>5425186</th>\n",
       "      <td>Horace and Pete</td>\n",
       "      <td>8.8</td>\n",
       "      <td>USA</td>\n",
       "    </tr>\n",
       "    <tr>\n",
       "      <th>5491994</th>\n",
       "      <td>Planet Earth II</td>\n",
       "      <td>9.7</td>\n",
       "      <td>UK</td>\n",
       "    </tr>\n",
       "    <tr>\n",
       "      <th>5555260</th>\n",
       "      <td>This Is Us</td>\n",
       "      <td>8.9</td>\n",
       "      <td>USA</td>\n",
       "    </tr>\n",
       "    <tr>\n",
       "      <th>5712554</th>\n",
       "      <td>The Grand Tour</td>\n",
       "      <td>9.1</td>\n",
       "      <td>USA</td>\n",
       "    </tr>\n",
       "    <tr>\n",
       "      <th>6005644</th>\n",
       "      <td>TVF Tripling</td>\n",
       "      <td>8.9</td>\n",
       "      <td>India</td>\n",
       "    </tr>\n",
       "  </tbody>\n",
       "</table>\n",
       "<p>295 rows × 3 columns</p>\n",
       "</div>"
      ],
      "text/plain": [
       "                            naslov  ocena  drzava\n",
       "id                                               \n",
       "43208                  I Love Lucy    8.4     USA\n",
       "47708    Alfred Hitchcock Presents    8.6     USA\n",
       "52520            The Twilight Zone    9.0     USA\n",
       "53488          The Bugs Bunny Show    8.6     USA\n",
       "54533       The Dick Van Dyke Show    8.4     USA\n",
       "56751                   Doctor Who    8.5      UK\n",
       "60028                    Star Trek    8.4     USA\n",
       "...                            ...    ...     ...\n",
       "5189670          Making a Murderer    8.8     USA\n",
       "5288312                       Skam    9.1  Norway\n",
       "5425186            Horace and Pete    8.8     USA\n",
       "5491994            Planet Earth II    9.7      UK\n",
       "5555260                 This Is Us    8.9     USA\n",
       "5712554             The Grand Tour    9.1     USA\n",
       "6005644               TVF Tripling    8.9   India\n",
       "\n",
       "[295 rows x 3 columns]"
      ]
     },
     "execution_count": 9,
     "metadata": {},
     "output_type": "execute_result"
    }
   ],
   "source": [
    "tabela1 = serije[['naslov', 'ocena']].join(drzave)\n",
    "tabela1"
   ]
  },
  {
   "cell_type": "code",
   "execution_count": 10,
   "metadata": {
    "collapsed": false
   },
   "outputs": [
    {
     "data": {
      "text/plain": [
       "<matplotlib.axes._subplots.AxesSubplot at 0x571cd90>"
      ]
     },
     "execution_count": 10,
     "metadata": {},
     "output_type": "execute_result"
    },
    {
     "data": {
      "image/png": "[encoded data removed]",
      "text/plain": [
       "<matplotlib.figure.Figure at 0x7a39b50>"
      ]
     },
     "metadata": {},
     "output_type": "display_data"
    }
   ],
   "source": [
    "tabela1.groupby('drzava').size().sort_values(ascending = False).plot(kind='bar', figsize = (10, 7), fontsize = 13)"
   ]
  },
  {
   "cell_type": "markdown",
   "metadata": {},
   "source": [
    "Največ jih je torej iz Združenih držav Amerike, Združenega kraljestva in Japonske. Kateri pa so tam najbolj pogosti žanri?"
   ]
  },
  {
   "cell_type": "code",
   "execution_count": 11,
   "metadata": {
    "collapsed": false
   },
   "outputs": [
    {
     "data": {
      "text/plain": [
       "zanr\n",
       "Drama        85\n",
       "Comedy       54\n",
       "Thriller     35\n",
       "Crime        35\n",
       "Action       29\n",
       "Mystery      28\n",
       "Sci-Fi       27\n",
       "Adventure    24\n",
       "Animation    21\n",
       "Fantasy      18\n",
       "dtype: int64"
      ]
     },
     "execution_count": 11,
     "metadata": {},
     "output_type": "execute_result"
    }
   ],
   "source": [
    "drzave[drzave['drzava'] == 'USA'].join(zanri).groupby('zanr').size().sort_values(ascending = False).head(10)"
   ]
  },
  {
   "cell_type": "code",
   "execution_count": 12,
   "metadata": {
    "collapsed": false
   },
   "outputs": [
    {
     "data": {
      "text/plain": [
       "zanr\n",
       "Drama          36\n",
       "Comedy         31\n",
       "Mystery        12\n",
       "Crime          12\n",
       "Documentary    10\n",
       "Romance         9\n",
       "War             7\n",
       "Sci-Fi          7\n",
       "History         6\n",
       "Thriller        6\n",
       "dtype: int64"
      ]
     },
     "execution_count": 12,
     "metadata": {},
     "output_type": "execute_result"
    }
   ],
   "source": [
    "drzave[drzave['drzava'] == 'UK'].join(zanri).groupby('zanr').size().sort_values(ascending = False).head(10)"
   ]
  },
  {
   "cell_type": "code",
   "execution_count": 13,
   "metadata": {
    "collapsed": false
   },
   "outputs": [
    {
     "data": {
      "text/plain": [
       "zanr\n",
       "Animation    28\n",
       "Action       24\n",
       "Adventure    18\n",
       "Fantasy      17\n",
       "Drama        17\n",
       "Thriller     14\n",
       "Sci-Fi       14\n",
       "Comedy       14\n",
       "Horror        6\n",
       "Romance       5\n",
       "dtype: int64"
      ]
     },
     "execution_count": 13,
     "metadata": {},
     "output_type": "execute_result"
    }
   ],
   "source": [
    "drzave[drzave['drzava'] == 'Japan'].join(zanri).groupby('zanr').size().sort_values(ascending = False).head(10)"
   ]
  },
  {
   "cell_type": "markdown",
   "metadata": {},
   "source": [
    "Na japonskem so najbolj popularne animirane serije, kar ne preseneča, zanimivo pa je, da so pri ostalih dveh drame na prvem mestu.\n",
    "\n",
    "Seveda pa sama količina serij še ne pomeni veliko - bolje je gledati povprečne ocene serij v teh državah:"
   ]
  },
  {
   "cell_type": "code",
   "execution_count": 14,
   "metadata": {
    "collapsed": false
   },
   "outputs": [
    {
     "data": {
      "text/html": [
       "<div>\n",
       "<table border=\"1\" class=\"dataframe\">\n",
       "  <thead>\n",
       "    <tr style=\"text-align: right;\">\n",
       "      <th></th>\n",
       "      <th>ocena</th>\n",
       "    </tr>\n",
       "    <tr>\n",
       "      <th>drzava</th>\n",
       "      <th></th>\n",
       "    </tr>\n",
       "  </thead>\n",
       "  <tbody>\n",
       "    <tr>\n",
       "      <th>UK</th>\n",
       "      <td>8.739189</td>\n",
       "    </tr>\n",
       "    <tr>\n",
       "      <th>USA</th>\n",
       "      <td>8.716429</td>\n",
       "    </tr>\n",
       "    <tr>\n",
       "      <th>Japan</th>\n",
       "      <td>8.689286</td>\n",
       "    </tr>\n",
       "  </tbody>\n",
       "</table>\n",
       "</div>"
      ],
      "text/plain": [
       "           ocena\n",
       "drzava          \n",
       "UK      8.739189\n",
       "USA     8.716429\n",
       "Japan   8.689286"
      ]
     },
     "execution_count": 14,
     "metadata": {},
     "output_type": "execute_result"
    }
   ],
   "source": [
    "drzave[\n",
    "    (drzave['drzava'] == 'USA')|\n",
    "    (drzave['drzava'] == 'UK')|\n",
    "    (drzave['drzava'] == 'Japan')\n",
    "].join(serije['ocena']).groupby('drzava').mean().sort_values(by = 'ocena', ascending = False)"
   ]
  },
  {
   "cell_type": "markdown",
   "metadata": {},
   "source": [
    "Vidimo torej, da čeprav je v ZDA več serij, so v povprečju slabše ocenjene kot v UK, Japonska pa ostaja na 3. mestu. Seveda pa moramo to statistiko jemati z nekaj rezerve, saj je zajetih podatkov premalo, da bi lahko natančno obravnavali take primerjave."
   ]
  },
  {
   "cell_type": "markdown",
   "metadata": {},
   "source": [
    "# Povezava ocene, dolžine in starosti serije"
   ]
  },
  {
   "cell_type": "markdown",
   "metadata": {},
   "source": [
    "V nadaljevanju si oglejmo, kako povprečna dolžina epizode vpliva na oceno serije:"
   ]
  },
  {
   "cell_type": "code",
   "execution_count": 15,
   "metadata": {
    "collapsed": false
   },
   "outputs": [
    {
     "data": {
      "text/html": [
       "<div>\n",
       "<table border=\"1\" class=\"dataframe\">\n",
       "  <thead>\n",
       "    <tr style=\"text-align: right;\">\n",
       "      <th></th>\n",
       "      <th>leto</th>\n",
       "      <th>ocena</th>\n",
       "      <th>dolzina</th>\n",
       "    </tr>\n",
       "    <tr>\n",
       "      <th>id</th>\n",
       "      <th></th>\n",
       "      <th></th>\n",
       "      <th></th>\n",
       "    </tr>\n",
       "  </thead>\n",
       "  <tbody>\n",
       "    <tr>\n",
       "      <th>43208</th>\n",
       "      <td>1951</td>\n",
       "      <td>8.4</td>\n",
       "      <td>30</td>\n",
       "    </tr>\n",
       "    <tr>\n",
       "      <th>43208</th>\n",
       "      <td>1952</td>\n",
       "      <td>8.4</td>\n",
       "      <td>30</td>\n",
       "    </tr>\n",
       "    <tr>\n",
       "      <th>43208</th>\n",
       "      <td>1953</td>\n",
       "      <td>8.4</td>\n",
       "      <td>30</td>\n",
       "    </tr>\n",
       "    <tr>\n",
       "      <th>43208</th>\n",
       "      <td>1954</td>\n",
       "      <td>8.4</td>\n",
       "      <td>30</td>\n",
       "    </tr>\n",
       "    <tr>\n",
       "      <th>43208</th>\n",
       "      <td>1955</td>\n",
       "      <td>8.4</td>\n",
       "      <td>30</td>\n",
       "    </tr>\n",
       "    <tr>\n",
       "      <th>43208</th>\n",
       "      <td>1956</td>\n",
       "      <td>8.4</td>\n",
       "      <td>30</td>\n",
       "    </tr>\n",
       "    <tr>\n",
       "      <th>43208</th>\n",
       "      <td>1957</td>\n",
       "      <td>8.4</td>\n",
       "      <td>30</td>\n",
       "    </tr>\n",
       "    <tr>\n",
       "      <th>...</th>\n",
       "      <td>...</td>\n",
       "      <td>...</td>\n",
       "      <td>...</td>\n",
       "    </tr>\n",
       "    <tr>\n",
       "      <th>5288312</th>\n",
       "      <td>2015</td>\n",
       "      <td>9.1</td>\n",
       "      <td>30</td>\n",
       "    </tr>\n",
       "    <tr>\n",
       "      <th>5288312</th>\n",
       "      <td>2016</td>\n",
       "      <td>9.1</td>\n",
       "      <td>30</td>\n",
       "    </tr>\n",
       "    <tr>\n",
       "      <th>5425186</th>\n",
       "      <td>2016</td>\n",
       "      <td>8.8</td>\n",
       "      <td>60</td>\n",
       "    </tr>\n",
       "    <tr>\n",
       "      <th>5491994</th>\n",
       "      <td>2016</td>\n",
       "      <td>9.7</td>\n",
       "      <td>51</td>\n",
       "    </tr>\n",
       "    <tr>\n",
       "      <th>5555260</th>\n",
       "      <td>2016</td>\n",
       "      <td>8.9</td>\n",
       "      <td>45</td>\n",
       "    </tr>\n",
       "    <tr>\n",
       "      <th>5712554</th>\n",
       "      <td>2016</td>\n",
       "      <td>9.1</td>\n",
       "      <td>60</td>\n",
       "    </tr>\n",
       "    <tr>\n",
       "      <th>6005644</th>\n",
       "      <td>2016</td>\n",
       "      <td>8.9</td>\n",
       "      <td>30</td>\n",
       "    </tr>\n",
       "  </tbody>\n",
       "</table>\n",
       "<p>1840 rows × 3 columns</p>\n",
       "</div>"
      ],
      "text/plain": [
       "         leto  ocena  dolzina\n",
       "id                           \n",
       "43208    1951    8.4       30\n",
       "43208    1952    8.4       30\n",
       "43208    1953    8.4       30\n",
       "43208    1954    8.4       30\n",
       "43208    1955    8.4       30\n",
       "43208    1956    8.4       30\n",
       "43208    1957    8.4       30\n",
       "...       ...    ...      ...\n",
       "5288312  2015    9.1       30\n",
       "5288312  2016    9.1       30\n",
       "5425186  2016    8.8       60\n",
       "5491994  2016    9.7       51\n",
       "5555260  2016    8.9       45\n",
       "5712554  2016    9.1       60\n",
       "6005644  2016    8.9       30\n",
       "\n",
       "[1840 rows x 3 columns]"
      ]
     },
     "execution_count": 15,
     "metadata": {},
     "output_type": "execute_result"
    }
   ],
   "source": [
    "tabela2 = leta.join(serije[['ocena', 'dolzina']])\n",
    "tabela2"
   ]
  },
  {
   "cell_type": "code",
   "execution_count": 16,
   "metadata": {
    "collapsed": false
   },
   "outputs": [
    {
     "data": {
      "text/plain": [
       "<matplotlib.axes._subplots.AxesSubplot at 0x7ad7b30>"
      ]
     },
     "execution_count": 16,
     "metadata": {},
     "output_type": "execute_result"
    },
    {
     "data": {
      "image/png": "[encoded data removed]",
      "text/plain": [
       "<matplotlib.figure.Figure at 0x7a89bf0>"
      ]
     },
     "metadata": {},
     "output_type": "display_data"
    }
   ],
   "source": [
    "tabela2.drop('leto', axis=1).groupby('dolzina').mean().plot()"
   ]
  },
  {
   "cell_type": "markdown",
   "metadata": {},
   "source": [
    "Zgleda, da so najbolje ocenjene serije z med 50 in 60 minutnimi epizodami. Kako je pa dolžina epizod odvisna od leta izida?"
   ]
  },
  {
   "cell_type": "code",
   "execution_count": 17,
   "metadata": {
    "collapsed": false,
    "scrolled": true
   },
   "outputs": [
    {
     "data": {
      "text/plain": [
       "<matplotlib.axes._subplots.AxesSubplot at 0x7be0550>"
      ]
     },
     "execution_count": 17,
     "metadata": {},
     "output_type": "execute_result"
    },
    {
     "data": {
      "image/png": "[encoded data removed]",
      "text/plain": [
       "<matplotlib.figure.Figure at 0x5792ef0>"
      ]
     },
     "metadata": {},
     "output_type": "display_data"
    }
   ],
   "source": [
    "tabela2.drop('ocena', axis=1).groupby('leto').mean().plot()"
   ]
  },
  {
   "cell_type": "code",
   "execution_count": 18,
   "metadata": {
    "collapsed": false
   },
   "outputs": [
    {
     "data": {
      "text/plain": [
       "dolzina    42.491504\n",
       "dtype: float64"
      ]
     },
     "execution_count": 18,
     "metadata": {},
     "output_type": "execute_result"
    }
   ],
   "source": [
    "tabela2.drop('ocena', axis=1)[(tabela2['leto'] >= 1990)].groupby('leto').mean().mean()"
   ]
  },
  {
   "cell_type": "markdown",
   "metadata": {},
   "source": [
    "Vidimo lahko, da je dolžina epizod čez leta 1951-1985 naraščala, to verjetno lahko pripišemo tehnološkemu razvoju v tem času, nato pa se je dolžina nekoliko zmanjšala in ustalila nekje okoli 42 minut, kar bi znala biti zlata sredina med ceno produkcije in gledanostjo.\n",
    "\n",
    "Tu bi se bilo še smiselno vprašati, kako starost serije vpliva na njeno oceno:"
   ]
  },
  {
   "cell_type": "code",
   "execution_count": 19,
   "metadata": {
    "collapsed": false
   },
   "outputs": [
    {
     "data": {
      "text/plain": [
       "<matplotlib.axes._subplots.AxesSubplot at 0x7c2f210>"
      ]
     },
     "execution_count": 19,
     "metadata": {},
     "output_type": "execute_result"
    },
    {
     "data": {
      "image/png": "[encoded data removed]",
      "text/plain": [
       "<matplotlib.figure.Figure at 0x7c5e290>"
      ]
     },
     "metadata": {},
     "output_type": "display_data"
    }
   ],
   "source": [
    "tabela2.drop('dolzina', axis=1).groupby('leto').mean().plot()"
   ]
  },
  {
   "cell_type": "markdown",
   "metadata": {},
   "source": [
    "Ker te ocene precej nihajo, si raje oglejmo povprečje po posameznih desetletjih:"
   ]
  },
  {
   "cell_type": "code",
   "execution_count": 20,
   "metadata": {
    "collapsed": false
   },
   "outputs": [
    {
     "data": {
      "text/plain": [
       "[(1950, 8.5230769230769212),\n",
       " (1960, 8.5771428571428565),\n",
       " (1970, 8.6740740740740723),\n",
       " (1980, 8.7499999999999947),\n",
       " (1990, 8.7307407407407389),\n",
       " (2000, 8.7080279232111675),\n",
       " (2010, 8.7237942122186212)]"
      ]
     },
     "execution_count": 20,
     "metadata": {},
     "output_type": "execute_result"
    }
   ],
   "source": [
    "ocena_cas = tabela2.drop('dolzina', axis=1)\n",
    "y = []\n",
    "for x in range(1950, 2011, 10):\n",
    "    y.append((x,ocena_cas[(ocena_cas['leto'] < x+10) & (ocena_cas['leto'] > x)].mean()['ocena']))\n",
    "y"
   ]
  },
  {
   "cell_type": "markdown",
   "metadata": {},
   "source": [
    "Tu vidimo, da so povprečne ocene po desetletjih zelo podobne - vsako desetletje ima nekaj boljših in nekaj slabših serij. Zgleda, da starost nima bistvenega vpliva na oceno serije."
   ]
  },
  {
   "cell_type": "markdown",
   "metadata": {},
   "source": [
    "# Igralci"
   ]
  },
  {
   "cell_type": "markdown",
   "metadata": {},
   "source": [
    "Za razliko od recimo filmov, bi za serije pričakovali, da se igralci bolj redko pojavljajo v večih serijah hkrati. Pa preverimo:"
   ]
  },
  {
   "cell_type": "code",
   "execution_count": 21,
   "metadata": {
    "collapsed": false
   },
   "outputs": [
    {
     "data": {
      "text/plain": [
       "ime\n",
       "Christopher Sabat       8\n",
       "Stephen Fry             6\n",
       "David Attenborough      5\n",
       "Hugh Laurie             5\n",
       "Colleen Clinkenbeard    5\n",
       "Mike McFarland          5\n",
       "Hiromi Tsuru            4\n",
       "                       ..\n",
       "Michelle Fairley        2\n",
       "Michael Stuhlbarg       2\n",
       "Michael Smiley          2\n",
       "Michael McGrady         2\n",
       "Michael Kelly           2\n",
       "Michael Emerson         2\n",
       "Aaron Douglas           2\n",
       "dtype: int64"
      ]
     },
     "execution_count": 21,
     "metadata": {},
     "output_type": "execute_result"
    }
   ],
   "source": [
    "igralci.groupby('ime').size()[igralci.groupby('ime').size()>1].sort_values(ascending = False)"
   ]
  },
  {
   "cell_type": "markdown",
   "metadata": {},
   "source": [
    "Opazimo, da ima kar nekaj igralcev več vlog. Da bomo imeli ta podatek na razpolago, dodajmo tabeli 'igralci' še en stolpec:"
   ]
  },
  {
   "cell_type": "code",
   "execution_count": 22,
   "metadata": {
    "collapsed": true
   },
   "outputs": [],
   "source": [
    "def st_vlog(ime):\n",
    "    return len(igralci[igralci['ime'] == ime])"
   ]
  },
  {
   "cell_type": "code",
   "execution_count": 23,
   "metadata": {
    "collapsed": false
   },
   "outputs": [],
   "source": [
    "igralci1 = igralci.copy()\n",
    "igralci1['stevilo_vlog'] = igralci1['ime'].apply(st_vlog)"
   ]
  },
  {
   "cell_type": "code",
   "execution_count": 24,
   "metadata": {
    "collapsed": false
   },
   "outputs": [
    {
     "data": {
      "text/html": [
       "<div>\n",
       "<table border=\"1\" class=\"dataframe\">\n",
       "  <thead>\n",
       "    <tr style=\"text-align: right;\">\n",
       "      <th></th>\n",
       "      <th>id</th>\n",
       "      <th>id igralca</th>\n",
       "      <th>ime</th>\n",
       "      <th>vloga</th>\n",
       "      <th>stevilo_vlog</th>\n",
       "    </tr>\n",
       "  </thead>\n",
       "  <tbody>\n",
       "    <tr>\n",
       "      <th>0</th>\n",
       "      <td>5491994</td>\n",
       "      <td>41003</td>\n",
       "      <td>David Attenborough</td>\n",
       "      <td>Himself - presenter</td>\n",
       "      <td>5</td>\n",
       "    </tr>\n",
       "    <tr>\n",
       "      <th>1</th>\n",
       "      <td>185906</td>\n",
       "      <td>342241</td>\n",
       "      <td>Scott Grimes</td>\n",
       "      <td>Donald G. Malarkey</td>\n",
       "      <td>1</td>\n",
       "    </tr>\n",
       "    <tr>\n",
       "      <th>2</th>\n",
       "      <td>185906</td>\n",
       "      <td>507073</td>\n",
       "      <td>Damian Lewis</td>\n",
       "      <td>Richard D. Winters</td>\n",
       "      <td>2</td>\n",
       "    </tr>\n",
       "    <tr>\n",
       "      <th>3</th>\n",
       "      <td>185906</td>\n",
       "      <td>515296</td>\n",
       "      <td>Ron Livingston</td>\n",
       "      <td>Lewis Nixon</td>\n",
       "      <td>1</td>\n",
       "    </tr>\n",
       "    <tr>\n",
       "      <th>4</th>\n",
       "      <td>185906</td>\n",
       "      <td>853169</td>\n",
       "      <td>Shane Taylor</td>\n",
       "      <td>Eugene G. Roe</td>\n",
       "      <td>1</td>\n",
       "    </tr>\n",
       "    <tr>\n",
       "      <th>5</th>\n",
       "      <td>185906</td>\n",
       "      <td>5531</td>\n",
       "      <td>Donnie Wahlberg</td>\n",
       "      <td>C. Carwood Lipton</td>\n",
       "      <td>1</td>\n",
       "    </tr>\n",
       "    <tr>\n",
       "      <th>6</th>\n",
       "      <td>185906</td>\n",
       "      <td>950186</td>\n",
       "      <td>Peter Youngblood Hills</td>\n",
       "      <td>Darrell C. (Shifty) Powers</td>\n",
       "      <td>1</td>\n",
       "    </tr>\n",
       "    <tr>\n",
       "      <th>...</th>\n",
       "      <td>...</td>\n",
       "      <td>...</td>\n",
       "      <td>...</td>\n",
       "      <td>...</td>\n",
       "      <td>...</td>\n",
       "    </tr>\n",
       "    <tr>\n",
       "      <th>3384</th>\n",
       "      <td>2126154</td>\n",
       "      <td>4813425</td>\n",
       "      <td>Autumn Smiles</td>\n",
       "      <td>Titch</td>\n",
       "      <td>1</td>\n",
       "    </tr>\n",
       "    <tr>\n",
       "      <th>3385</th>\n",
       "      <td>2126154</td>\n",
       "      <td>2772078</td>\n",
       "      <td>Ian Smith</td>\n",
       "      <td>Mr. Benson</td>\n",
       "      <td>1</td>\n",
       "    </tr>\n",
       "    <tr>\n",
       "      <th>3386</th>\n",
       "      <td>2126154</td>\n",
       "      <td>871443</td>\n",
       "      <td>William Travis</td>\n",
       "      <td>Mr. Squires</td>\n",
       "      <td>1</td>\n",
       "    </tr>\n",
       "    <tr>\n",
       "      <th>3387</th>\n",
       "      <td>2126154</td>\n",
       "      <td>6743500</td>\n",
       "      <td>Ryan Barr</td>\n",
       "      <td>Trudy</td>\n",
       "      <td>1</td>\n",
       "    </tr>\n",
       "    <tr>\n",
       "      <th>3388</th>\n",
       "      <td>2126154</td>\n",
       "      <td>1276507</td>\n",
       "      <td>Alex Macqueen</td>\n",
       "      <td>Fay's Dad</td>\n",
       "      <td>1</td>\n",
       "    </tr>\n",
       "    <tr>\n",
       "      <th>3389</th>\n",
       "      <td>2126154</td>\n",
       "      <td>40060</td>\n",
       "      <td>Emily Aston</td>\n",
       "      <td>Janice</td>\n",
       "      <td>1</td>\n",
       "    </tr>\n",
       "    <tr>\n",
       "      <th>3390</th>\n",
       "      <td>2126154</td>\n",
       "      <td>841491</td>\n",
       "      <td>Joanna Swain</td>\n",
       "      <td>Maitre D'</td>\n",
       "      <td>1</td>\n",
       "    </tr>\n",
       "  </tbody>\n",
       "</table>\n",
       "<p>3391 rows × 5 columns</p>\n",
       "</div>"
      ],
      "text/plain": [
       "           id  id igralca                     ime                       vloga  \\\n",
       "0     5491994       41003      David Attenborough         Himself - presenter   \n",
       "1      185906      342241            Scott Grimes          Donald G. Malarkey   \n",
       "2      185906      507073            Damian Lewis          Richard D. Winters   \n",
       "3      185906      515296          Ron Livingston                 Lewis Nixon   \n",
       "4      185906      853169            Shane Taylor               Eugene G. Roe   \n",
       "5      185906        5531         Donnie Wahlberg           C. Carwood Lipton   \n",
       "6      185906      950186  Peter Youngblood Hills  Darrell C. (Shifty) Powers   \n",
       "...       ...         ...                     ...                         ...   \n",
       "3384  2126154     4813425           Autumn Smiles                       Titch   \n",
       "3385  2126154     2772078               Ian Smith                  Mr. Benson   \n",
       "3386  2126154      871443          William Travis                 Mr. Squires   \n",
       "3387  2126154     6743500               Ryan Barr                       Trudy   \n",
       "3388  2126154     1276507           Alex Macqueen                   Fay's Dad   \n",
       "3389  2126154       40060             Emily Aston                      Janice   \n",
       "3390  2126154      841491            Joanna Swain                   Maitre D'   \n",
       "\n",
       "      stevilo_vlog  \n",
       "0                5  \n",
       "1                1  \n",
       "2                2  \n",
       "3                1  \n",
       "4                1  \n",
       "5                1  \n",
       "6                1  \n",
       "...            ...  \n",
       "3384             1  \n",
       "3385             1  \n",
       "3386             1  \n",
       "3387             1  \n",
       "3388             1  \n",
       "3389             1  \n",
       "3390             1  \n",
       "\n",
       "[3391 rows x 5 columns]"
      ]
     },
     "execution_count": 24,
     "metadata": {},
     "output_type": "execute_result"
    }
   ],
   "source": [
    "igralci1"
   ]
  },
  {
   "cell_type": "code",
   "execution_count": 25,
   "metadata": {
    "collapsed": false
   },
   "outputs": [
    {
     "data": {
      "text/plain": [
       "266"
      ]
     },
     "execution_count": 25,
     "metadata": {},
     "output_type": "execute_result"
    }
   ],
   "source": [
    "igralci_v_vecih = len(igralci1[igralci1['stevilo_vlog'] > 1].groupby('ime'))\n",
    "igralci_v_vecih"
   ]
  },
  {
   "cell_type": "code",
   "execution_count": 26,
   "metadata": {
    "collapsed": false
   },
   "outputs": [
    {
     "data": {
      "text/plain": [
       "3056"
      ]
     },
     "execution_count": 26,
     "metadata": {},
     "output_type": "execute_result"
    }
   ],
   "source": [
    "vsi_igralci = igralci.groupby('ime').size().count()\n",
    "vsi_igralci"
   ]
  },
  {
   "cell_type": "code",
   "execution_count": 27,
   "metadata": {
    "collapsed": false
   },
   "outputs": [
    {
     "data": {
      "text/plain": [
       "8.7041884816753932"
      ]
     },
     "execution_count": 27,
     "metadata": {},
     "output_type": "execute_result"
    }
   ],
   "source": [
    "igralci_v_vecih / vsi_igralci *100"
   ]
  },
  {
   "cell_type": "markdown",
   "metadata": {},
   "source": [
    "Kot vidimo, jih morda ni tako malo kot bi mislili, je pa vseeno takih le 8.7% vseh igralcev. Poglejmo še, ali je morda opazna razlika med uspešnostjo igralcev z eno oz. večimi vlogami:"
   ]
  },
  {
   "cell_type": "code",
   "execution_count": 28,
   "metadata": {
    "collapsed": false
   },
   "outputs": [
    {
     "data": {
      "text/plain": [
       "8.7288471177944871"
      ]
     },
     "execution_count": 28,
     "metadata": {},
     "output_type": "execute_result"
    }
   ],
   "source": [
    "a = igralci1.join(serije['ocena'], on='id')[\n",
    "    igralci1['stevilo_vlog'] > 1\n",
    "].groupby('ime').mean()['ocena'].mean()\n",
    "a"
   ]
  },
  {
   "cell_type": "code",
   "execution_count": 29,
   "metadata": {
    "collapsed": false
   },
   "outputs": [
    {
     "data": {
      "text/plain": [
       "8.7093189964157709"
      ]
     },
     "execution_count": 29,
     "metadata": {},
     "output_type": "execute_result"
    }
   ],
   "source": [
    "b= igralci1.join(serije['ocena'], on='id')[\n",
    "    igralci1['stevilo_vlog'] == 1\n",
    "].groupby('ime').mean()['ocena'].mean()\n",
    "b"
   ]
  },
  {
   "cell_type": "code",
   "execution_count": 30,
   "metadata": {
    "collapsed": false
   },
   "outputs": [
    {
     "data": {
      "text/plain": [
       "0.22422099117913774"
      ]
     },
     "execution_count": 30,
     "metadata": {},
     "output_type": "execute_result"
    }
   ],
   "source": [
    "a/b*100 -100"
   ]
  },
  {
   "cell_type": "markdown",
   "metadata": {},
   "source": [
    "V povprečju so ocene igralcev z večimi vlogami višje, ampak za praktično zanemarljiv delež.\n",
    "\n",
    "Katero pa je najbolj pogosto ime igralcev v serijah?"
   ]
  },
  {
   "cell_type": "code",
   "execution_count": 41,
   "metadata": {
    "collapsed": false,
    "scrolled": true
   },
   "outputs": [
    {
     "data": {
      "text/plain": [
       "('Jo', 187)"
      ]
     },
     "execution_count": 41,
     "metadata": {},
     "output_type": "execute_result"
    }
   ],
   "source": [
    "def ime(ime_priimek):\n",
    "    return ime_priimek.split(' ')[0]\n",
    "imena = igralci['ime'].apply(ime).unique()\n",
    "s = {}\n",
    "for ime in imena:\n",
    "    i=0\n",
    "    for polno_ime in igralci['ime'].unique():\n",
    "        if ime in polno_ime:\n",
    "            i += 1\n",
    "    s[ime] = i\n",
    "max(s, key=s.get), s['Jo']"
   ]
  },
  {
   "cell_type": "code",
   "execution_count": 43,
   "metadata": {
    "collapsed": false
   },
   "outputs": [
    {
     "data": {
      "text/plain": [
       "6.1191099476439792"
      ]
     },
     "execution_count": 43,
     "metadata": {},
     "output_type": "execute_result"
    }
   ],
   "source": [
    "s['Jo'] / vsi_igralci *100"
   ]
  },
  {
   "cell_type": "markdown",
   "metadata": {},
   "source": [
    "Najbolj pogosto je torej ime \"Jo\" in sicer jih je kar 187, kar je malo čez 6% vseh igralcev."
   ]
  },
  {
   "cell_type": "markdown",
   "metadata": {},
   "source": [
    "# Žanri"
   ]
  },
  {
   "cell_type": "markdown",
   "metadata": {},
   "source": [
    "Za zaključek bomo pogledali še kako je z žanri serij. Nekaj o žanrih smo ugotovili že pri naslovu \"Serije po državah\", tu pa bomo to še nekoliko razširili. Prej smo si gledali le najbolj pogoste žanre v ZDA, UK in na Japonskem, kako je pa v splošnem?"
   ]
  },
  {
   "cell_type": "code",
   "execution_count": 47,
   "metadata": {
    "collapsed": false
   },
   "outputs": [
    {
     "data": {
      "text/plain": [
       "zanr\n",
       "Drama         176\n",
       "Comedy        115\n",
       "Thriller       65\n",
       "Action         62\n",
       "Crime          60\n",
       "Mystery        59\n",
       "Sci-Fi         54\n",
       "             ... \n",
       "Talk-Show       5\n",
       "Western         4\n",
       "Game-Show       3\n",
       "Musical         3\n",
       "News            3\n",
       "Reality-TV      1\n",
       "Sport           1\n",
       "dtype: int64"
      ]
     },
     "execution_count": 47,
     "metadata": {},
     "output_type": "execute_result"
    }
   ],
   "source": [
    "drzave.join(zanri).groupby('zanr').size().sort_values(ascending=False)"
   ]
  },
  {
   "cell_type": "markdown",
   "metadata": {},
   "source": [
    "Kot smo videli pri ZDA in UK, so tudi na splošno najbolj pogoste drame in komedije. To ni presenetljivo, saj je večina serij iz teh dveh držav. Kakšne so pa ocene po žanrih?"
   ]
  },
  {
   "cell_type": "code",
   "execution_count": 55,
   "metadata": {
    "collapsed": false
   },
   "outputs": [
    {
     "data": {
      "text/plain": [
       "zanr\n",
       "Documentary    9.080769\n",
       "Talk-Show      8.860000\n",
       "War            8.838889\n",
       "History        8.804545\n",
       "News           8.800000\n",
       "Western        8.750000\n",
       "Adventure      8.748000\n",
       "                 ...   \n",
       "Comedy         8.655652\n",
       "Family         8.634783\n",
       "Game-Show      8.633333\n",
       "Biography      8.628571\n",
       "Horror         8.581818\n",
       "Music          8.560000\n",
       "Musical        8.533333\n",
       "Name: ocena, dtype: float64"
      ]
     },
     "execution_count": 55,
     "metadata": {},
     "output_type": "execute_result"
    }
   ],
   "source": [
    "ocene_zanrov = drzave.join(zanri).join(serije['ocena']).groupby('zanr').mean()['ocena'].sort_values(ascending=False)\n",
    "ocene_zanrov"
   ]
  },
  {
   "cell_type": "code",
   "execution_count": 63,
   "metadata": {
    "collapsed": false
   },
   "outputs": [
    {
     "data": {
      "text/plain": [
       "False"
      ]
     },
     "execution_count": 63,
     "metadata": {},
     "output_type": "execute_result"
    }
   ],
   "source": [
    "'Drama' in ocene_zanrov.head(10)"
   ]
  },
  {
   "cell_type": "code",
   "execution_count": 64,
   "metadata": {
    "collapsed": false
   },
   "outputs": [
    {
     "data": {
      "text/plain": [
       "False"
      ]
     },
     "execution_count": 64,
     "metadata": {},
     "output_type": "execute_result"
    }
   ],
   "source": [
    "'Comedy' in ocene_zanrov.head(10)"
   ]
  },
  {
   "cell_type": "markdown",
   "metadata": {},
   "source": [
    "Vidimo, da čeprav je dram in komedij daleč največ, po ocenah ne pridejo niti med prvih 10 žanrov. Po eni strani razumljivo, saj če je več serij istega žanra, je težje držati visoko povprečje ocen, po drugi strani pa je zanimivo, da najbolj množične serije niso med najbolje ocenjenimi.\n",
    "\n",
    "V nadaljevanju bomo obravnavali število glasov pri posamezni seriji za dovolj dober približek gledanosti. To seveda ni res, saj večina gledalcev ne poda ocene, bi se pa morala približno ohranjati vsaj razmerja, kar bo za namene naše analize dovolj dobro."
   ]
  },
  {
   "cell_type": "code",
   "execution_count": 81,
   "metadata": {
    "collapsed": false
   },
   "outputs": [
    {
     "data": {
      "text/html": [
       "<div>\n",
       "<table border=\"1\" class=\"dataframe\">\n",
       "  <thead>\n",
       "    <tr style=\"text-align: right;\">\n",
       "      <th></th>\n",
       "      <th>naslov</th>\n",
       "      <th>ocena</th>\n",
       "      <th>st_glasov</th>\n",
       "      <th>zanr</th>\n",
       "    </tr>\n",
       "    <tr>\n",
       "      <th>id</th>\n",
       "      <th></th>\n",
       "      <th></th>\n",
       "      <th></th>\n",
       "      <th></th>\n",
       "    </tr>\n",
       "  </thead>\n",
       "  <tbody>\n",
       "    <tr>\n",
       "      <th>944947</th>\n",
       "      <td>Game of Thrones</td>\n",
       "      <td>9.5</td>\n",
       "      <td>1106304</td>\n",
       "      <td>Fantasy</td>\n",
       "    </tr>\n",
       "    <tr>\n",
       "      <th>944947</th>\n",
       "      <td>Game of Thrones</td>\n",
       "      <td>9.5</td>\n",
       "      <td>1106304</td>\n",
       "      <td>Romance</td>\n",
       "    </tr>\n",
       "    <tr>\n",
       "      <th>944947</th>\n",
       "      <td>Game of Thrones</td>\n",
       "      <td>9.5</td>\n",
       "      <td>1106304</td>\n",
       "      <td>Adventure</td>\n",
       "    </tr>\n",
       "    <tr>\n",
       "      <th>944947</th>\n",
       "      <td>Game of Thrones</td>\n",
       "      <td>9.5</td>\n",
       "      <td>1106304</td>\n",
       "      <td>Drama</td>\n",
       "    </tr>\n",
       "    <tr>\n",
       "      <th>903747</th>\n",
       "      <td>Breaking Bad</td>\n",
       "      <td>9.5</td>\n",
       "      <td>939633</td>\n",
       "      <td>Crime</td>\n",
       "    </tr>\n",
       "    <tr>\n",
       "      <th>903747</th>\n",
       "      <td>Breaking Bad</td>\n",
       "      <td>9.5</td>\n",
       "      <td>939633</td>\n",
       "      <td>Drama</td>\n",
       "    </tr>\n",
       "    <tr>\n",
       "      <th>903747</th>\n",
       "      <td>Breaking Bad</td>\n",
       "      <td>9.5</td>\n",
       "      <td>939633</td>\n",
       "      <td>Thriller</td>\n",
       "    </tr>\n",
       "    <tr>\n",
       "      <th>...</th>\n",
       "      <td>...</td>\n",
       "      <td>...</td>\n",
       "      <td>...</td>\n",
       "      <td>...</td>\n",
       "    </tr>\n",
       "    <tr>\n",
       "      <th>90509</th>\n",
       "      <td>The Return of Sherlock Holmes</td>\n",
       "      <td>8.9</td>\n",
       "      <td>5902</td>\n",
       "      <td>Crime</td>\n",
       "    </tr>\n",
       "    <tr>\n",
       "      <th>90509</th>\n",
       "      <td>The Return of Sherlock Holmes</td>\n",
       "      <td>8.9</td>\n",
       "      <td>5902</td>\n",
       "      <td>Drama</td>\n",
       "    </tr>\n",
       "    <tr>\n",
       "      <th>90509</th>\n",
       "      <td>The Return of Sherlock Holmes</td>\n",
       "      <td>8.9</td>\n",
       "      <td>5902</td>\n",
       "      <td>Mystery</td>\n",
       "    </tr>\n",
       "    <tr>\n",
       "      <th>103466</th>\n",
       "      <td>The Larry Sanders Show</td>\n",
       "      <td>8.5</td>\n",
       "      <td>5376</td>\n",
       "      <td>Comedy</td>\n",
       "    </tr>\n",
       "    <tr>\n",
       "      <th>80297</th>\n",
       "      <td>Tinker Tailor Soldier Spy</td>\n",
       "      <td>8.7</td>\n",
       "      <td>5316</td>\n",
       "      <td>Drama</td>\n",
       "    </tr>\n",
       "    <tr>\n",
       "      <th>80297</th>\n",
       "      <td>Tinker Tailor Soldier Spy</td>\n",
       "      <td>8.7</td>\n",
       "      <td>5316</td>\n",
       "      <td>Thriller</td>\n",
       "    </tr>\n",
       "    <tr>\n",
       "      <th>86831</th>\n",
       "      <td>Yes, Prime Minister</td>\n",
       "      <td>8.8</td>\n",
       "      <td>5071</td>\n",
       "      <td>Comedy</td>\n",
       "    </tr>\n",
       "  </tbody>\n",
       "</table>\n",
       "<p>774 rows × 4 columns</p>\n",
       "</div>"
      ],
      "text/plain": [
       "                               naslov  ocena  st_glasov       zanr\n",
       "id                                                                \n",
       "944947                Game of Thrones    9.5    1106304    Fantasy\n",
       "944947                Game of Thrones    9.5    1106304    Romance\n",
       "944947                Game of Thrones    9.5    1106304  Adventure\n",
       "944947                Game of Thrones    9.5    1106304      Drama\n",
       "903747                   Breaking Bad    9.5     939633      Crime\n",
       "903747                   Breaking Bad    9.5     939633      Drama\n",
       "903747                   Breaking Bad    9.5     939633   Thriller\n",
       "...                               ...    ...        ...        ...\n",
       "90509   The Return of Sherlock Holmes    8.9       5902      Crime\n",
       "90509   The Return of Sherlock Holmes    8.9       5902      Drama\n",
       "90509   The Return of Sherlock Holmes    8.9       5902    Mystery\n",
       "103466         The Larry Sanders Show    8.5       5376     Comedy\n",
       "80297       Tinker Tailor Soldier Spy    8.7       5316      Drama\n",
       "80297       Tinker Tailor Soldier Spy    8.7       5316   Thriller\n",
       "86831             Yes, Prime Minister    8.8       5071     Comedy\n",
       "\n",
       "[774 rows x 4 columns]"
      ]
     },
     "execution_count": 81,
     "metadata": {},
     "output_type": "execute_result"
    }
   ],
   "source": [
    "tabela3 = serije[['naslov', 'ocena', 'st_glasov']].join(zanri)\n",
    "tabela3.sort_values('st_glasov', ascending=False)"
   ]
  },
  {
   "cell_type": "markdown",
   "metadata": {},
   "source": [
    "Če se kaj spoznate na popularne serije zadnjih let, potem vam bodo naslovi na vrhu verjetno znani. Poglejmo kako se medsebojno obnašata ocena in število glasov:"
   ]
  },
  {
   "cell_type": "code",
   "execution_count": 82,
   "metadata": {
    "collapsed": false
   },
   "outputs": [
    {
     "data": {
      "text/plain": [
       "<matplotlib.axes._subplots.AxesSubplot at 0x88be3d0>"
      ]
     },
     "execution_count": 82,
     "metadata": {},
     "output_type": "execute_result"
    },
    {
     "data": {
      "image/png": "[encoded data removed]",
      "text/plain": [
       "<matplotlib.figure.Figure at 0x86d1330>"
      ]
     },
     "metadata": {},
     "output_type": "display_data"
    }
   ],
   "source": [
    "tabela3.groupby('st_glasov').mean().plot(figsize=(10,5))"
   ]
  },
  {
   "cell_type": "markdown",
   "metadata": {},
   "source": [
    "Kot vidimo, zadeva precej oscilira, iz česar bomo sklepali, da neke bistvene povezave med oceno in gledanostjo ni. To je zanimivo dejstvo; imamo torej serije, ki so odlične, vendar jih malo ljudi gleda, in pa tudi serije, ki so slabe, vendar jih veliko ljudi gleda. Glede na to kaj se danes najde po televiziji, to niti ni tako presenetljivo."
   ]
  },
  {
   "cell_type": "markdown",
   "metadata": {},
   "source": [
    "Preverimo še gledanost po žanrih:"
   ]
  },
  {
   "cell_type": "code",
   "execution_count": 90,
   "metadata": {
    "collapsed": false
   },
   "outputs": [
    {
     "data": {
      "text/plain": [
       "<matplotlib.axes._subplots.AxesSubplot at 0x9f9f870>"
      ]
     },
     "execution_count": 90,
     "metadata": {},
     "output_type": "execute_result"
    },
    {
     "data": {
      "image/png": "[encoded data removed]",
      "text/plain": [
       "<matplotlib.figure.Figure at 0x9f9f0b0>"
      ]
     },
     "metadata": {},
     "output_type": "display_data"
    }
   ],
   "source": [
    "tabela3.groupby('zanr').mean()['st_glasov'].sort_values(ascending = False).plot(kind='pie', figsize = (10, 10))"
   ]
  },
  {
   "cell_type": "markdown",
   "metadata": {},
   "source": [
    "Podatki torej kažejo na to, da so najbolj gledani trilerji, romance in grozljivke. Opazimo, da so drame in komedije spet opazno pod vrhom (komedije so celo v spodnji polovici). Torej količina serij določenega žanra nima tako velikega vpliva na gledanost."
   ]
  }
 ],
 "metadata": {
  "kernelspec": {
   "display_name": "Python 3",
   "language": "python",
   "name": "python3"
  },
  "language_info": {
   "codemirror_mode": {
    "name": "ipython",
    "version": 3
   },
   "file_extension": ".py",
   "mimetype": "text/x-python",
   "name": "python",
   "nbconvert_exporter": "python",
   "pygments_lexer": "ipython3",
   "version": "3.5.2"
  }
 },
 "nbformat": 4,
 "nbformat_minor": 1
}
