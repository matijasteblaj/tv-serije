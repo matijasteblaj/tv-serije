{
 "cells": [
  {
   "cell_type": "markdown",
   "metadata": {},
   "source": [
    "# TV Serije\n",
    "\n",
    "Za svoj projekt sem se odločil za analizo trenutno najbolj popularnih (glede na stran imdb.com) 247 tv serij.\n",
    "Zbral sem naslednje podatke o omenjenih serijah:\n",
    "- naslov\n",
    "- kratek opis\n",
    "- žanri\n",
    "- leta izida\n",
    "- dolžine epizod\n",
    "- število epizod\n",
    "- ocena, število glasov\n",
    "- igralci (in vloge)\n",
    "\n",
    "Za začetek si oglejmo vse podatke, zbrane v tabeli:"
   ]
  },
  {
   "cell_type": "code",
   "execution_count": null,
   "metadata": {
    "collapsed": true
   },
   "outputs": [],
   "source": [
    "import pandas as pd\n",
    "%matplotlib inline\n",
    "\n",
    "pd.options.display.max_rows = 20"
   ]
  }
 ],
 "metadata": {
  "kernelspec": {
   "display_name": "Python 3",
   "language": "python",
   "name": "python3"
  },
  "language_info": {
   "codemirror_mode": {
    "name": "ipython",
    "version": 3
   },
   "file_extension": ".py",
   "mimetype": "text/x-python",
   "name": "python",
   "nbconvert_exporter": "python",
   "pygments_lexer": "ipython3",
   "version": "3.5.2"
  }
 },
 "nbformat": 4,
 "nbformat_minor": 1
}
